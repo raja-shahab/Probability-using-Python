{
 "cells": [
  {
   "cell_type": "code",
   "execution_count": 102,
   "id": "98a992ec-b9b9-4594-aaa3-c50db2a51dcc",
   "metadata": {},
   "outputs": [],
   "source": [
    "# Probability of an event is the likelihood that the event will occur"
   ]
  },
  {
   "cell_type": "markdown",
   "id": "08bd660e-cb38-40a6-8ab4-a5b2cf5f1abe",
   "metadata": {},
   "source": [
    "# Random Variables"
   ]
  },
  {
   "cell_type": "code",
   "execution_count": 5,
   "id": "9beb0c77-3c08-42d2-aaae-a5cdf376214a",
   "metadata": {},
   "outputs": [
    {
     "name": "stdout",
     "output_type": "stream",
     "text": [
      "[3 1]\n"
     ]
    }
   ],
   "source": [
    "import numpy as np\n",
    "\n",
    "die_6 = range(1, 7)\n",
    "num_rolls = 2\n",
    "\n",
    "# choice( list of numbers, values to choose, keep/discard value form list )\n",
    "print(np.random.choice(die_6, num_rolls, replace=True))"
   ]
  },
  {
   "cell_type": "code",
   "execution_count": 13,
   "id": "c8905bb4-e3eb-4507-b7ce-13f937ad577f",
   "metadata": {},
   "outputs": [
    {
     "name": "stdout",
     "output_type": "stream",
     "text": [
      "[ 3 12 10 11  1  9]\n"
     ]
    }
   ],
   "source": [
    "die_12 = range(1, 13)\n",
    "\n",
    "print(np.random.choice( die_12, 6, replace=False ))"
   ]
  },
  {
   "cell_type": "code",
   "execution_count": 14,
   "id": "eb6bf5a7-5e9b-4dbd-8d53-9f26d65dcea4",
   "metadata": {},
   "outputs": [],
   "source": [
    "# Discrete Random Variable : countable number of possible values\n",
    "# Continous Random Variable : uncountable number of possible values"
   ]
  },
  {
   "cell_type": "markdown",
   "id": "6be4bca7-9ea4-4c69-a7fa-5e3140207881",
   "metadata": {},
   "source": [
    "# Binomial Distribution Function"
   ]
  },
  {
   "cell_type": "code",
   "execution_count": null,
   "id": "3c75034e-984c-4ffe-8809-397388e8b2a9",
   "metadata": {},
   "outputs": [],
   "source": [
    "# Bi = 2, means it will have two possible outcomes either True or False "
   ]
  },
  {
   "cell_type": "code",
   "execution_count": 100,
   "id": "f016236e-25a5-45cd-ab0e-c45a71bfda30",
   "metadata": {},
   "outputs": [],
   "source": [
    "# Formula\n",
    "# P(X=k)=( n ) . p**k . (1−p)**n−k\n",
    "#        ( k )"
   ]
  },
  {
   "cell_type": "code",
   "execution_count": 101,
   "id": "e2f930d5-8151-45d6-8007-bc972eca3196",
   "metadata": {},
   "outputs": [
    {
     "name": "stdout",
     "output_type": "stream",
     "text": [
      "Probability of Head is 20.508 %\n",
      "Probability of Tail is 79.492 %\n"
     ]
    }
   ],
   "source": [
    "# Flip a coin 10 times and what is the probability that head will occur 6 times?\n",
    "# Binomial Probability Mass Function : probability of observing particular value of a discrete eandom variable\n",
    "\n",
    "import scipy.stats as st\n",
    "\n",
    "n = 10\n",
    "x = 6\n",
    "bi = 1/2\n",
    "\n",
    "probability = st.binom.pmf(x , n , bi )\n",
    "result = probability * 100\n",
    "\n",
    "tail = 1 - probability\n",
    "tail_prob = tail * 100\n",
    "\n",
    "print(f\"Probability of Head is {result:.3f} %\")\n",
    "print(f\"Probability of Tail is {tail_prob:.3f} %\")"
   ]
  },
  {
   "cell_type": "code",
   "execution_count": 53,
   "id": "5d7eaa96-a964-457b-81af-1f6adbca7e45",
   "metadata": {},
   "outputs": [
    {
     "data": {
      "application/vnd.jupyter.widget-view+json": {
       "model_id": "73ca603925594252b42f0469dcdf8b58",
       "version_major": 2,
       "version_minor": 0
      },
      "text/plain": [
       "interactive(children=(IntSlider(value=10, description='x', max=10, min=1), Output()), _dom_classes=('widget-in…"
      ]
     },
     "metadata": {},
     "output_type": "display_data"
    }
   ],
   "source": [
    "from matplotlib import pyplot as plt\n",
    "import ipywidgets as widgets\n",
    "import scipy.stats as st\n",
    "\n",
    "@widgets.interact(x=widgets.IntSlider(min=1, max=10, step=1, value=10))\n",
    "def plot_prob(x):\n",
    "    prob = []\n",
    "    for i in range(0, 11):\n",
    "        prob.append(st.binom.pmf(i, x, 0.5))\n",
    "\n",
    "    plt.figure(figsize=(6, 3))\n",
    "    plt.bar(range(0, 11), prob, color='brown')\n",
    "    plt.xlabel('Number of Heads')\n",
    "    plt.ylabel('Probability')\n",
    "    plt.grid(color='r')\n",
    "    plt.xticks(range(0, 11))\n",
    "    plt.show()\n"
   ]
  },
  {
   "cell_type": "markdown",
   "id": "7f5d898a-4c68-4fb2-923f-bd7574d35f5f",
   "metadata": {},
   "source": [
    "# Probability over a Range"
   ]
  },
  {
   "cell_type": "code",
   "execution_count": 55,
   "id": "645ebe86-8363-4ba2-a478-dfc74e563825",
   "metadata": {},
   "outputs": [
    {
     "name": "stdout",
     "output_type": "stream",
     "text": [
      "0.7812499999999996\n"
     ]
    }
   ],
   "source": [
    "# Flip a coin and wnat the probability of getting 1 and 3 heads.\n",
    "# probability of 1 + probability of 2 + probability of 3\n",
    "\n",
    "import scipy.stats as stats\n",
    "\n",
    "prob = stats.binom.pmf(1, 5, 0.5) + stats.binom.pmf(2, 5, 0.5) + stats.binom.pmf(3, 5, 0.5)\n",
    "print(prob)"
   ]
  },
  {
   "cell_type": "code",
   "execution_count": 57,
   "id": "b167ce6a-7def-495c-922d-5f5e41c5db9a",
   "metadata": {},
   "outputs": [
    {
     "name": "stdout",
     "output_type": "stream",
     "text": [
      "[0.15624999999999997, 0.3124999999999998, 0.3124999999999998]\n",
      "0.7812499999999996\n"
     ]
    }
   ],
   "source": [
    "# OR\n",
    "\n",
    "prob2 = []\n",
    "\n",
    "for i in range(1, 4):\n",
    "    prob2.append(stats.binom.pmf(i, 5, 0.5))\n",
    "\n",
    "print(prob2)\n",
    "print(sum(prob2))"
   ]
  },
  {
   "cell_type": "code",
   "execution_count": null,
   "id": "51a1ea88-6e2a-4280-bcbc-b305630c8e39",
   "metadata": {},
   "outputs": [],
   "source": [
    "# want to know the probaility of observing 8 or fewer heads from 10 coin flips."
   ]
  },
  {
   "cell_type": "code",
   "execution_count": 69,
   "id": "17b75aaf-a4d4-4a00-bcc0-8ef91495f5d3",
   "metadata": {},
   "outputs": [
    {
     "name": "stdout",
     "output_type": "stream",
     "text": [
      "Probability of 0 to 8: 98.93%\n",
      "Probability of 9 to 10: 1.07%\n",
      "Adding both will give 1:  0.9999999999999998\n"
     ]
    }
   ],
   "source": [
    "prob3 = []\n",
    "prob4 = []\n",
    "\n",
    "for i in range(0, 9):\n",
    "    prob3.append(stats.binom.pmf(i, 10, 0.5))\n",
    "\n",
    "perc_08 = sum(prob3)\n",
    "\n",
    "print(\"Probability of 0 to 8: {:.2f}%\".format(perc_08 * 100))\n",
    "\n",
    "# To check do for 9 and 10\n",
    "for i in range(9, 11):\n",
    "    prob4.append(stats.binom.pmf(i, 10, 0.5))\n",
    "\n",
    "perc_910 = sum(prob4)\n",
    "print(\"Probability of 9 to 10: {:.2f}%\".format(perc_910 * 100))\n",
    "\n",
    "print(\"Adding both will give 1: \", perc_08 + perc_910)"
   ]
  },
  {
   "cell_type": "code",
   "execution_count": 83,
   "id": "603cd39b-9eeb-4062-bb1e-350e70439707",
   "metadata": {},
   "outputs": [
    {
     "data": {
      "application/vnd.jupyter.widget-view+json": {
       "model_id": "5ec50302e4784f22a0becc54442ca2d3",
       "version_major": 2,
       "version_minor": 0
      },
      "text/plain": [
       "interactive(children=(IntRangeSlider(value=(1, 3), description='Heads', max=10), Output()), _dom_classes=('wid…"
      ]
     },
     "metadata": {},
     "output_type": "display_data"
    }
   ],
   "source": [
    "from matplotlib import pyplot as plt\n",
    "import ipywidgets as widget\n",
    "\n",
    "@widget.interact(x=widget.IntRangeSlider(value=[1, 3], min=0, max=10, description='Heads'))\n",
    "\n",
    "def plot_prob(x):\n",
    "    prob_1 = []\n",
    "    prob_2 = [] # probability in range\n",
    "    for i in range(0, 11):\n",
    "        prob_1.append(stats.binom.pmf(i, 10, 0.5))\n",
    "\n",
    "    for i in range(x[0], x[1]+1 ):\n",
    "        prob_2.append(stats.binom.pmf(i, 10, 0.5))\n",
    "\n",
    "    print(\"Probability of between {} and {} heads is: {} %\".format(x[0], x[1], round(sum(prob_2)*100, 2)))\n",
    "    print()\n",
    "    plt.figure(figsize=(6, 3))\n",
    "    plt.bar(range(0, 11), prob_1, color=\"#2f4f4f\")\n",
    "    plt.bar(range(x[0], x[1]+1), prob_2, color=\"green\")\n",
    "    \n",
    "    plt.xlabel(\"Number of Heads\")\n",
    "    plt.ylabel(\"Probability\")\n",
    "    plt.title(\"Binomial Distribution: Probability over a Range\")\n",
    "    plt.show()\n",
    "\n"
   ]
  },
  {
   "cell_type": "markdown",
   "id": "f078a50c-b9a9-44a5-8f9d-2a94aafe7271",
   "metadata": {},
   "source": [
    "# Cumulative Distribution Function"
   ]
  },
  {
   "cell_type": "code",
   "execution_count": null,
   "id": "c620be88-e988-4c6e-93e1-572f8588463f",
   "metadata": {},
   "outputs": [],
   "source": [
    "# instead of probability of observing a specific value, the cumulative distribution function gives the\n",
    "# probability of observing a specific value or less"
   ]
  },
  {
   "cell_type": "code",
   "execution_count": 99,
   "id": "becbd4a0-0a52-4e2a-b35c-6740dd0bf4f4",
   "metadata": {},
   "outputs": [],
   "source": [
    "# Formula\n",
    "# P(X≤k)=P(X=0)+P(X=1)+⋯+P(X=k)"
   ]
  },
  {
   "cell_type": "code",
   "execution_count": 90,
   "id": "74bf9987-61a6-4989-852a-4645725e8beb",
   "metadata": {},
   "outputs": [
    {
     "name": "stdout",
     "output_type": "stream",
     "text": [
      "Using CDF:  0.171875\n",
      "Using PMF:  0.17187500000000003\n",
      "Both gives same results but CDF is short and better for checking prob of that num and below it\n"
     ]
    }
   ],
   "source": [
    "# Calculate the probability of observing 3 or fewer heads, from flipping 10 fair coins\n",
    "\n",
    "import scipy.stats as stats\n",
    "\n",
    "probability1 = stats.binom.cdf(3, 10, 0.5)\n",
    "print(\"Using CDF: \", probability1)\n",
    "\n",
    "# compared to PMF\n",
    "proob = []\n",
    "for i in range(0, 4):\n",
    "    proob.append(stats.binom.pmf(i, 10, 0.5))\n",
    "\n",
    "print(\"Using PMF: \", sum(proob))\n",
    "\n",
    "print(\"Both gives same results but CDF is short and better for checking prob of that num and below it\")"
   ]
  },
  {
   "cell_type": "code",
   "execution_count": 91,
   "id": "c271e0c3-7a73-4c09-8f23-3ff4ecdaa219",
   "metadata": {},
   "outputs": [
    {
     "name": "stdout",
     "output_type": "stream",
     "text": [
      "Probability from 4 to 8 Heads:  0.8173828125\n"
     ]
    }
   ],
   "source": [
    "# P(4 to 8) = P(0 to 8) - P(0 to 3)\n",
    "\n",
    "prob2 = stats.binom.cdf(8, 10, 0.5) - stats.binom.cdf(3, 10, 0.5)\n",
    "print(\"Probability from 4 to 8 Heads: \", prob2)"
   ]
  },
  {
   "cell_type": "code",
   "execution_count": 93,
   "id": "786e6310-c935-4def-a0f5-60130a0af855",
   "metadata": {},
   "outputs": [
    {
     "name": "stdout",
     "output_type": "stream",
     "text": [
      "Probability for more than 6 Heads:  0.171875\n"
     ]
    }
   ],
   "source": [
    "# P(more than 6) = 1 - P(0 to 6)\n",
    "\n",
    "prob3 = 1 - stats.binom.cdf(6, 10, 0.5)\n",
    "print(\"Probability for more than 6 Heads: \", prob3)"
   ]
  },
  {
   "cell_type": "markdown",
   "id": "ea4c1de6-4fe1-462d-94e8-2d0f1bc3edb9",
   "metadata": {},
   "source": [
    "# Probability Density Function"
   ]
  },
  {
   "cell_type": "code",
   "execution_count": 94,
   "id": "76c67090-06cf-4aba-bcb2-5c8092695933",
   "metadata": {},
   "outputs": [
    {
     "name": "stdout",
     "output_type": "stream",
     "text": [
      "0.11999735789901239\n"
     ]
    }
   ],
   "source": [
    "# define the probability of continous random value and span across all possible values that the given random variable can take on\n",
    "\n",
    "prob = stats.norm.cdf(158, 167.4, 8)\n",
    "print(prob)"
   ]
  },
  {
   "cell_type": "code",
   "execution_count": 95,
   "id": "c7ac361c-eba9-485f-b5da-6829905506a9",
   "metadata": {},
   "outputs": [
    {
     "data": {
      "image/png": "[encoded data removed]",
      "text/plain": [
       "<Figure size 640x480 with 1 Axes>"
      ]
     },
     "metadata": {},
     "output_type": "display_data"
    }
   ],
   "source": [
    "import numpy as np\n",
    "import matplotlib.pyplot as plt\n",
    "from scipy.stats import norm\n",
    "\n",
    "mean = 0   # Mean (center of the distribution)\n",
    "std_dev = 1  # Standard deviation (controls the width of the curve)\n",
    "\n",
    "# Generate an array of values between -4 and 4 (common range for normal distribution)\n",
    "x = np.linspace(-4, 4, 1000)\n",
    "\n",
    "# Compute the PDF values for each x using the normal distribution's PDF function\n",
    "pdf_values = norm.pdf(x, mean, std_dev)\n",
    "\n",
    "# Plot the PDF\n",
    "plt.plot(x, pdf_values, label=\"Normal Distribution (mean=0, std_dev=1)\")\n",
    "plt.title(\"Probability Density Function (PDF) of Normal Distribution\")\n",
    "plt.xlabel(\"X values\")\n",
    "plt.ylabel(\"Probability Density\")\n",
    "plt.legend()\n",
    "plt.grid(True)\n",
    "plt.show()\n"
   ]
  },
  {
   "cell_type": "code",
   "execution_count": 96,
   "id": "9897b86e-7ef5-42e9-9a26-fde0d8baf041",
   "metadata": {},
   "outputs": [
    {
     "name": "stdout",
     "output_type": "stream",
     "text": [
      "0.6997171101802624\n"
     ]
    }
   ],
   "source": [
    "# Example: mean= 20 degree and std of 3 degree, probabaility of weather btw 18 to 25 degree\n",
    "\n",
    "prob2 = stats.norm.cdf(25, 20, 3) - stats.norm.cdf(18, 20, 3)\n",
    "print(prob2)\n",
    "\n",
    "# The CDF tells us the probability that the temperature is less than or equal to 25°C. MINUS\n",
    "# It gives the probability that the temperature is less than or equal to 18°C."
   ]
  },
  {
   "cell_type": "code",
   "execution_count": 97,
   "id": "605903bb-bea2-4678-9a83-983885944e22",
   "metadata": {},
   "outputs": [
    {
     "name": "stdout",
     "output_type": "stream",
     "text": [
      "0.09121121972586788\n"
     ]
    }
   ],
   "source": [
    "# from example one, calculate the probability of random selected day will be greater than 24 degree\n",
    "\n",
    "prob3 = 1 - stats.norm.cdf(24, 20, 3)\n",
    "print(prob3)"
   ]
  },
  {
   "cell_type": "code",
   "execution_count": null,
   "id": "596b75d3-7f88-4002-86d8-dc4a42907191",
   "metadata": {},
   "outputs": [],
   "source": []
  }
 ],
 "metadata": {
  "kernelspec": {
   "display_name": "Python 3 (ipykernel)",
   "language": "python",
   "name": "python3"
  },
  "language_info": {
   "codemirror_mode": {
    "name": "ipython",
    "version": 3
   },
   "file_extension": ".py",
   "mimetype": "text/x-python",
   "name": "python",
   "nbconvert_exporter": "python",
   "pygments_lexer": "ipython3",
   "version": "3.12.3"
  }
 },
 "nbformat": 4,
 "nbformat_minor": 5
}
